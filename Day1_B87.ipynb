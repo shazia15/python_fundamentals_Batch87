{
 "cells": [
  {
   "cell_type": "code",
   "execution_count": 1,
   "id": "3cb61bba-66b2-4ddc-a0ea-20893460395c",
   "metadata": {},
   "outputs": [
    {
     "ename": "SyntaxError",
     "evalue": "invalid syntax. Perhaps you forgot a comma? (3470186206.py, line 1)",
     "output_type": "error",
     "traceback": [
      "\u001b[1;36m  Cell \u001b[1;32mIn[1], line 1\u001b[1;36m\u001b[0m\n\u001b[1;33m    print(welcome to the python programming)\u001b[0m\n\u001b[1;37m          ^\u001b[0m\n\u001b[1;31mSyntaxError\u001b[0m\u001b[1;31m:\u001b[0m invalid syntax. Perhaps you forgot a comma?\n"
     ]
    }
   ],
   "source": [
    "print(welcome to the python programming)"
   ]
  },
  {
   "cell_type": "code",
   "execution_count": 2,
   "id": "de00d9fd-6056-4372-8f1e-8e763bdddd73",
   "metadata": {},
   "outputs": [
    {
     "ename": "SyntaxError",
     "evalue": "Missing parentheses in call to 'print'. Did you mean print(...)? (250278418.py, line 1)",
     "output_type": "error",
     "traceback": [
      "\u001b[1;36m  Cell \u001b[1;32mIn[2], line 1\u001b[1;36m\u001b[0m\n\u001b[1;33m    print\"welcome to the class!\"\u001b[0m\n\u001b[1;37m    ^\u001b[0m\n\u001b[1;31mSyntaxError\u001b[0m\u001b[1;31m:\u001b[0m Missing parentheses in call to 'print'. Did you mean print(...)?\n"
     ]
    }
   ],
   "source": [
    "print\"welcome to the class!\""
   ]
  },
  {
   "cell_type": "raw",
   "id": "a346e098-6ab2-44ec-abec-022e384a40ac",
   "metadata": {},
   "source": [
    "print(\"Hello all welcome to the python programming world\")"
   ]
  },
  {
   "cell_type": "code",
   "execution_count": 3,
   "id": "bc22905c-45a0-496b-933a-87ec71ade062",
   "metadata": {},
   "outputs": [
    {
     "name": "stdout",
     "output_type": "stream",
     "text": [
      "Hello all welcome to the python programming world\n"
     ]
    }
   ],
   "source": [
    "print(\"Hello all welcome to the python programming world\")"
   ]
  },
  {
   "cell_type": "code",
   "execution_count": 4,
   "id": "46083ca6-bb58-4679-aabd-09c425d50da9",
   "metadata": {},
   "outputs": [],
   "source": [
    "#shift + enter button on the keyboard"
   ]
  },
  {
   "cell_type": "code",
   "execution_count": null,
   "id": "8247f859-03c3-4c04-8f14-e9da26ad4c30",
   "metadata": {},
   "outputs": [],
   "source": []
  }
 ],
 "metadata": {
  "kernelspec": {
   "display_name": "Python 3 (ipykernel)",
   "language": "python",
   "name": "python3"
  },
  "language_info": {
   "codemirror_mode": {
    "name": "ipython",
    "version": 3
   },
   "file_extension": ".py",
   "mimetype": "text/x-python",
   "name": "python",
   "nbconvert_exporter": "python",
   "pygments_lexer": "ipython3",
   "version": "3.12.4"
  }
 },
 "nbformat": 4,
 "nbformat_minor": 5
}
