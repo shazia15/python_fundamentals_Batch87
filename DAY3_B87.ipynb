{
 "cells": [
  {
   "cell_type": "code",
   "execution_count": null,
   "id": "2cf8d9b1-e4c1-4f9f-b0d8-e8fa95df9f2f",
   "metadata": {},
   "outputs": [],
   "source": [
    "STRING DATATYPE"
   ]
  },
  {
   "cell_type": "code",
   "execution_count": 1,
   "id": "8bb110c9-7dcb-4579-9574-5c7655eef5e3",
   "metadata": {},
   "outputs": [
    {
     "name": "stdout",
     "output_type": "stream",
     "text": [
      "raju\n"
     ]
    }
   ],
   "source": [
    "name='raju'   #single quote\n",
    "\n",
    "print(name)"
   ]
  },
  {
   "cell_type": "code",
   "execution_count": 2,
   "id": "1b4a9cfd-493b-4566-96f3-39670c4d30ea",
   "metadata": {},
   "outputs": [
    {
     "name": "stdout",
     "output_type": "stream",
     "text": [
      "joseph\n"
     ]
    }
   ],
   "source": [
    "name2=\"joseph\"   #double quote\n",
    "\n",
    "print(name2)"
   ]
  },
  {
   "cell_type": "code",
   "execution_count": null,
   "id": "c04a6988-f382-41b4-83e8-89e396311e6b",
   "metadata": {},
   "outputs": [],
   "source": [
    "TYPE METHOD"
   ]
  },
  {
   "cell_type": "code",
   "execution_count": 3,
   "id": "c37ae42b-28aa-4ee5-b15e-d46a9b0d3dde",
   "metadata": {},
   "outputs": [
    {
     "data": {
      "text/plain": [
       "str"
      ]
     },
     "execution_count": 3,
     "metadata": {},
     "output_type": "execute_result"
    }
   ],
   "source": [
    "type(name)"
   ]
  },
  {
   "cell_type": "code",
   "execution_count": 4,
   "id": "451a86e4-120d-41e7-8817-0a90f71e51ca",
   "metadata": {},
   "outputs": [
    {
     "data": {
      "text/plain": [
       "str"
      ]
     },
     "execution_count": 4,
     "metadata": {},
     "output_type": "execute_result"
    }
   ],
   "source": [
    "type(name2)\n"
   ]
  },
  {
   "cell_type": "code",
   "execution_count": 5,
   "id": "ddeb59a0-95de-455b-869a-12542ee365fd",
   "metadata": {},
   "outputs": [
    {
     "ename": "SyntaxError",
     "evalue": "invalid syntax (4158311074.py, line 1)",
     "output_type": "error",
     "traceback": [
      "\u001b[1;36m  Cell \u001b[1;32mIn[5], line 1\u001b[1;36m\u001b[0m\n\u001b[1;33m    title method\u001b[0m\n\u001b[1;37m          ^\u001b[0m\n\u001b[1;31mSyntaxError\u001b[0m\u001b[1;31m:\u001b[0m invalid syntax\n"
     ]
    }
   ],
   "source": [
    "title method"
   ]
  },
  {
   "cell_type": "code",
   "execution_count": 6,
   "id": "fea40a11-591e-4fa5-a2af-23ee55218ac0",
   "metadata": {},
   "outputs": [
    {
     "name": "stdout",
     "output_type": "stream",
     "text": [
      "ashwin raj\n"
     ]
    }
   ],
   "source": [
    "fullname='ashwin raj'\n",
    "\n",
    "print(fullname)"
   ]
  },
  {
   "cell_type": "code",
   "execution_count": 7,
   "id": "8cec1c52-c780-4be0-9991-05c833a73ad1",
   "metadata": {},
   "outputs": [
    {
     "name": "stdout",
     "output_type": "stream",
     "text": [
      "Ashwin Raj\n"
     ]
    }
   ],
   "source": [
    "print(fullname.title())"
   ]
  },
  {
   "cell_type": "code",
   "execution_count": 8,
   "id": "94f19357-c54b-400b-a0ba-43bfcb14078e",
   "metadata": {},
   "outputs": [
    {
     "name": "stdout",
     "output_type": "stream",
     "text": [
      "ASHWIN RAJ\n"
     ]
    }
   ],
   "source": [
    "print(fullname.upper())"
   ]
  },
  {
   "cell_type": "code",
   "execution_count": 9,
   "id": "e92fb681-d405-47fe-a979-b25a6430dd59",
   "metadata": {},
   "outputs": [
    {
     "name": "stdout",
     "output_type": "stream",
     "text": [
      "ashwin raj\n"
     ]
    }
   ],
   "source": [
    "print(fullname.lower())"
   ]
  },
  {
   "cell_type": "code",
   "execution_count": 10,
   "id": "48ee661c-e58e-460d-8bcb-8b834b0325ad",
   "metadata": {},
   "outputs": [
    {
     "name": "stdout",
     "output_type": "stream",
     "text": [
      "ravikumar\n"
     ]
    }
   ],
   "source": [
    "firstname='ravi'\n",
    "lastname='kumar'\n",
    "\n",
    "fullname=f\"{firstname}{lastname}\"\n",
    "\n",
    "print(fullname)"
   ]
  },
  {
   "cell_type": "code",
   "execution_count": 11,
   "id": "3a40809d-a084-4bbd-9e22-9df82582f04a",
   "metadata": {},
   "outputs": [
    {
     "name": "stdout",
     "output_type": "stream",
     "text": [
      "Ravikumar\n"
     ]
    }
   ],
   "source": [
    "print(fullname.title())"
   ]
  },
  {
   "cell_type": "code",
   "execution_count": 12,
   "id": "79a1cbfd-d2e7-4aa4-a05c-7dcc72c35578",
   "metadata": {},
   "outputs": [
    {
     "name": "stdout",
     "output_type": "stream",
     "text": [
      "keep up the good workRavikumar\n"
     ]
    }
   ],
   "source": [
    "message=f\"keep up the good work{fullname.title()}\"\n",
    "\n",
    "print(message)"
   ]
  },
  {
   "cell_type": "code",
   "execution_count": 13,
   "id": "a8089d57-1efc-4e91-b2c4-b7ac7b5c84f4",
   "metadata": {},
   "outputs": [
    {
     "name": "stdout",
     "output_type": "stream",
     "text": [
      "keep up the good work Ravikumar\n"
     ]
    }
   ],
   "source": [
    "message=f\"keep up the good work {fullname.title()}\"\n",
    "\n",
    "print(message)"
   ]
  },
  {
   "cell_type": "code",
   "execution_count": 14,
   "id": "6c6bac36-79a8-44cb-8545-4a3302f8a7b2",
   "metadata": {},
   "outputs": [
    {
     "name": "stdout",
     "output_type": "stream",
     "text": [
      "favourite_prog_language:pythonjavac++swiftreactcpascal\n"
     ]
    }
   ],
   "source": [
    "print(\"favourite_prog_language:pythonjavac++swiftreactcpascal\")"
   ]
  },
  {
   "cell_type": "code",
   "execution_count": 15,
   "id": "34604914-ade5-4cf6-893b-8c45c63bd00f",
   "metadata": {},
   "outputs": [
    {
     "name": "stdout",
     "output_type": "stream",
     "text": [
      "favourite-prog_language:\n",
      "python\n",
      "java\n",
      "c++\n",
      "swift\n",
      "react\n",
      "cpascal\n"
     ]
    }
   ],
   "source": [
    "print(\"favourite-prog_language:\\npython\\njava\\nc++\\nswift\\nreact\\ncpascal\")"
   ]
  },
  {
   "cell_type": "code",
   "execution_count": 16,
   "id": "6380b791-7285-43fe-b50e-223b27e333f9",
   "metadata": {},
   "outputs": [
    {
     "name": "stdout",
     "output_type": "stream",
     "text": [
      "favourite_prog_language:\n",
      "\tpython\n",
      "\tjava\n",
      "\tc++\n",
      "\tswift\n",
      "\treact\n",
      "\tcpascal\n"
     ]
    }
   ],
   "source": [
    "print(\"favourite_prog_language:\\n\\tpython\\n\\tjava\\n\\tc++\\n\\tswift\\n\\treact\\n\\tcpascal\")"
   ]
  },
  {
   "cell_type": "code",
   "execution_count": 17,
   "id": "12eaf471-2061-4d22-a278-dcffda66d306",
   "metadata": {},
   "outputs": [
    {
     "name": "stdout",
     "output_type": "stream",
     "text": [
      "python\n"
     ]
    }
   ],
   "source": [
    "name=\"python\"\n",
    "\n",
    "print(name)"
   ]
  },
  {
   "cell_type": "code",
   "execution_count": 18,
   "id": "2a4da8a4-eec8-41d7-b9bf-01949ae806e5",
   "metadata": {},
   "outputs": [
    {
     "name": "stdout",
     "output_type": "stream",
     "text": [
      " python\n"
     ]
    }
   ],
   "source": [
    "name2=\" python\"\n",
    "\n",
    "print(name2)"
   ]
  },
  {
   "cell_type": "code",
   "execution_count": 19,
   "id": "7597f5f9-28c7-4cef-a2fd-bb34d6dabb1a",
   "metadata": {},
   "outputs": [
    {
     "name": "stdout",
     "output_type": "stream",
     "text": [
      "python \n"
     ]
    }
   ],
   "source": [
    "name3=\"python \"\n",
    "\n",
    "print(name3)\n"
   ]
  },
  {
   "cell_type": "code",
   "execution_count": null,
   "id": "524bea87-8010-43bc-91de-cb2ac3ba9bae",
   "metadata": {},
   "outputs": [],
   "source": [
    "strip method\n",
    "str"
   ]
  }
 ],
 "metadata": {
  "kernelspec": {
   "display_name": "Python 3 (ipykernel)",
   "language": "python",
   "name": "python3"
  },
  "language_info": {
   "codemirror_mode": {
    "name": "ipython",
    "version": 3
   },
   "file_extension": ".py",
   "mimetype": "text/x-python",
   "name": "python",
   "nbconvert_exporter": "python",
   "pygments_lexer": "ipython3",
   "version": "3.12.4"
  }
 },
 "nbformat": 4,
 "nbformat_minor": 5
}
