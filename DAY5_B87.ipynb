{
 "cells": [
  {
   "cell_type": "code",
   "execution_count": 1,
   "id": "099842c1-ba18-4b57-994e-9a173c351b87",
   "metadata": {},
   "outputs": [
    {
     "name": "stdout",
     "output_type": "stream",
     "text": [
      "['benz', 'maruthi', 'audi', 'suzuki', 'bmw', 'kia']\n"
     ]
    }
   ],
   "source": [
    "cars=['benz','maruthi','audi','suzuki','bmw','kia']\n",
    "\n",
    "print(cars)"
   ]
  },
  {
   "cell_type": "code",
   "execution_count": 2,
   "id": "256b903f-7b77-4177-8e12-1bc8d944b652",
   "metadata": {},
   "outputs": [
    {
     "name": "stdout",
     "output_type": "stream",
     "text": [
      "['audi', 'benz', 'bmw', 'kia', 'maruthi', 'suzuki']\n"
     ]
    }
   ],
   "source": [
    "print(sorted(cars))"
   ]
  },
  {
   "cell_type": "code",
   "execution_count": 3,
   "id": "b305aeb3-979a-43fe-b019-aa04618461c9",
   "metadata": {},
   "outputs": [
    {
     "name": "stdout",
     "output_type": "stream",
     "text": [
      "['benz', 'maruthi', 'audi', 'suzuki', 'bmw', 'kia']\n"
     ]
    }
   ],
   "source": [
    "print(cars)"
   ]
  },
  {
   "cell_type": "code",
   "execution_count": 4,
   "id": "ff030ca8-5ba3-4564-b441-0f0ec86d3928",
   "metadata": {},
   "outputs": [
    {
     "name": "stdout",
     "output_type": "stream",
     "text": [
      "['audi', 'benz', 'bmw', 'kia', 'maruthi', 'suzuki']\n"
     ]
    }
   ],
   "source": [
    "cars.sort()\n",
    "\n",
    "print(cars)"
   ]
  },
  {
   "cell_type": "code",
   "execution_count": 5,
   "id": "bcf0bbef-e332-4b3d-8bb7-3da5a8995926",
   "metadata": {},
   "outputs": [
    {
     "name": "stdout",
     "output_type": "stream",
     "text": [
      "['audi', 'benz', 'bmw', 'kia', 'maruthi', 'suzuki']\n"
     ]
    }
   ],
   "source": [
    "print(cars)"
   ]
  },
  {
   "cell_type": "code",
   "execution_count": null,
   "id": "efaa1e24-8d5a-4957-b176-74066476bff3",
   "metadata": {},
   "outputs": [],
   "source": [
    "#print the list in the reverse order"
   ]
  },
  {
   "cell_type": "code",
   "execution_count": 6,
   "id": "83dc3246-84cf-43ec-b0ef-d61bd3e198f4",
   "metadata": {},
   "outputs": [
    {
     "name": "stdout",
     "output_type": "stream",
     "text": [
      "['suzuki', 'maruthi', 'kia', 'bmw', 'benz', 'audi']\n"
     ]
    }
   ],
   "source": [
    "cars.reverse()\n",
    "\n",
    "print(cars)"
   ]
  },
  {
   "cell_type": "code",
   "execution_count": 7,
   "id": "91155f80-4054-42bc-b2d0-0936a98f791f",
   "metadata": {},
   "outputs": [
    {
     "name": "stdout",
     "output_type": "stream",
     "text": [
      "['suzuki', 'maruthi', 'kia', 'bmw', 'benz', 'audi']\n"
     ]
    }
   ],
   "source": [
    "print(cars)"
   ]
  },
  {
   "cell_type": "code",
   "execution_count": 8,
   "id": "f6b2016a-9912-4a28-bb58-5f8d737e051d",
   "metadata": {},
   "outputs": [
    {
     "data": {
      "text/plain": [
       "6"
      ]
     },
     "execution_count": 8,
     "metadata": {},
     "output_type": "execute_result"
    }
   ],
   "source": [
    "len(cars)"
   ]
  },
  {
   "cell_type": "code",
   "execution_count": null,
   "id": "e367e642-63e7-4760-80c4-4e4af1cd8b0f",
   "metadata": {},
   "outputs": [],
   "source": [
    "#slicing the list"
   ]
  },
  {
   "cell_type": "code",
   "execution_count": 9,
   "id": "14b163c9-c77a-43cb-9f96-451aba2960f2",
   "metadata": {},
   "outputs": [
    {
     "name": "stdout",
     "output_type": "stream",
     "text": [
      "['aditi', 'naveen', 'saima', 'keerthi', 'nouman', 'joseph']\n"
     ]
    }
   ],
   "source": [
    "students=['aditi','naveen','saima','keerthi','nouman','joseph']\n",
    "\n",
    "print(students)"
   ]
  },
  {
   "cell_type": "code",
   "execution_count": 10,
   "id": "a4fefbe9-d3e1-40f4-bcd9-3fae1da5605a",
   "metadata": {},
   "outputs": [
    {
     "data": {
      "text/plain": [
       "list"
      ]
     },
     "execution_count": 10,
     "metadata": {},
     "output_type": "execute_result"
    }
   ],
   "source": [
    "type(students)"
   ]
  },
  {
   "cell_type": "code",
   "execution_count": null,
   "id": "e1817edf-3cd2-48d9-9712-95def6630043",
   "metadata": {},
   "outputs": [],
   "source": [
    "#start value:stop value:step value"
   ]
  },
  {
   "cell_type": "code",
   "execution_count": 11,
   "id": "a6bb38de-1b6c-4c51-812b-79f0523a888b",
   "metadata": {},
   "outputs": [
    {
     "name": "stdout",
     "output_type": "stream",
     "text": [
      "['aditi']\n"
     ]
    }
   ],
   "source": [
    "print(students[0:1])"
   ]
  },
  {
   "cell_type": "code",
   "execution_count": 12,
   "id": "bff63381-72df-4034-b44a-7ce198bdc12f",
   "metadata": {},
   "outputs": [
    {
     "name": "stdout",
     "output_type": "stream",
     "text": [
      "['aditi', 'naveen']\n"
     ]
    }
   ],
   "source": [
    "print(students[0:2])"
   ]
  },
  {
   "cell_type": "code",
   "execution_count": null,
   "id": "5a094ec4-c9fd-4ce8-8a39-853d6d78fa2b",
   "metadata": {},
   "outputs": [],
   "source": [
    "#req for saima and keerti"
   ]
  },
  {
   "cell_type": "code",
   "execution_count": 13,
   "id": "aaf42a6f-20e4-45c5-aa49-687d459904ce",
   "metadata": {},
   "outputs": [
    {
     "name": "stdout",
     "output_type": "stream",
     "text": [
      "['saima', 'keerthi']\n"
     ]
    }
   ],
   "source": [
    "print(students[2:4])"
   ]
  },
  {
   "cell_type": "raw",
   "id": "39731cba-413e-4f47-a6c1-00c286d05c01",
   "metadata": {},
   "source": []
  },
  {
   "cell_type": "code",
   "execution_count": 14,
   "id": "7d6783f9-5e6e-4c42-a56f-6ae44f187128",
   "metadata": {},
   "outputs": [
    {
     "name": "stdout",
     "output_type": "stream",
     "text": [
      "['nouman', 'joseph']\n"
     ]
    }
   ],
   "source": [
    "print(students[4:6])"
   ]
  },
  {
   "cell_type": "code",
   "execution_count": null,
   "id": "51556026-dcb5-4f67-ba99-456cb01ea542",
   "metadata": {},
   "outputs": [],
   "source": []
  },
  {
   "cell_type": "code",
   "execution_count": null,
   "id": "e92dc287-f610-493d-bab1-d3d6f6a30ba8",
   "metadata": {},
   "outputs": [],
   "source": []
  },
  {
   "cell_type": "code",
   "execution_count": null,
   "id": "1d82b164-b7bd-4994-b142-da3c3e5b1452",
   "metadata": {},
   "outputs": [],
   "source": []
  },
  {
   "cell_type": "code",
   "execution_count": null,
   "id": "8473d847-1ec7-461b-906f-4c8c6654e1c4",
   "metadata": {},
   "outputs": [],
   "source": []
  }
 ],
 "metadata": {
  "kernelspec": {
   "display_name": "Python 3 (ipykernel)",
   "language": "python",
   "name": "python3"
  },
  "language_info": {
   "codemirror_mode": {
    "name": "ipython",
    "version": 3
   },
   "file_extension": ".py",
   "mimetype": "text/x-python",
   "name": "python",
   "nbconvert_exporter": "python",
   "pygments_lexer": "ipython3",
   "version": "3.12.4"
  }
 },
 "nbformat": 4,
 "nbformat_minor": 5
}
