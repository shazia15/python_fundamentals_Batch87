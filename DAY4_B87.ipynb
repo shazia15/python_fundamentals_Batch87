{
 "cells": [
  {
   "cell_type": "code",
   "execution_count": 1,
   "id": "088d580e-b0d6-4711-a1e4-f75089e9058c",
   "metadata": {},
   "outputs": [
    {
     "name": "stdout",
     "output_type": "stream",
     "text": [
      "['saima', 'keerthi', 'naveen', 'kalyan', 'sajith', 'parveen']\n"
     ]
    }
   ],
   "source": [
    "students=['saima','keerthi','naveen','kalyan','sajith','parveen']\n",
    "\n",
    "print(students)"
   ]
  },
  {
   "cell_type": "code",
   "execution_count": 2,
   "id": "63839431-f2d9-4e34-b229-0eeab0875235",
   "metadata": {},
   "outputs": [
    {
     "data": {
      "text/plain": [
       "list"
      ]
     },
     "execution_count": 2,
     "metadata": {},
     "output_type": "execute_result"
    }
   ],
   "source": [
    "type(students)"
   ]
  },
  {
   "cell_type": "code",
   "execution_count": 3,
   "id": "65bd197e-bd70-4e15-9f59-510830f7036d",
   "metadata": {},
   "outputs": [
    {
     "name": "stdout",
     "output_type": "stream",
     "text": [
      "keerthi\n"
     ]
    }
   ],
   "source": [
    "print(students[1])"
   ]
  },
  {
   "cell_type": "code",
   "execution_count": 4,
   "id": "19b2f58b-78f7-49f2-824a-8e6ce1bf4159",
   "metadata": {},
   "outputs": [
    {
     "name": "stdout",
     "output_type": "stream",
     "text": [
      "kalyan\n"
     ]
    }
   ],
   "source": [
    "print(students[3])"
   ]
  },
  {
   "cell_type": "code",
   "execution_count": 5,
   "id": "4e171d2f-c7a1-4496-a8fd-10d91bf61899",
   "metadata": {},
   "outputs": [
    {
     "name": "stdout",
     "output_type": "stream",
     "text": [
      "['saima', 'keerthi', 'naveen', 'kalyan', 'sajith', 'parveen']\n"
     ]
    }
   ],
   "source": [
    "print(students)"
   ]
  },
  {
   "cell_type": "code",
   "execution_count": 6,
   "id": "2bcba8f3-319b-4067-8290-c91162896608",
   "metadata": {},
   "outputs": [
    {
     "name": "stdout",
     "output_type": "stream",
     "text": [
      "['saima', 'keerthi', 'naveen', 'kalyan', 'sajith', 'parveen', 'adil']\n"
     ]
    }
   ],
   "source": [
    "students.append('adil')\n",
    "\n",
    "print(students)"
   ]
  },
  {
   "cell_type": "code",
   "execution_count": 7,
   "id": "488d1b17-9197-48e2-b450-1205ad2757c4",
   "metadata": {},
   "outputs": [
    {
     "name": "stdout",
     "output_type": "stream",
     "text": [
      "['saima', 'keerthi', 'naveen', 'kalyan', 'sajith', 'parveen', 'adil', 'suresh']\n"
     ]
    }
   ],
   "source": [
    "students.append('suresh')\n",
    "\n",
    "print(students)"
   ]
  },
  {
   "cell_type": "code",
   "execution_count": 10,
   "id": "71eacb13-f529-479f-88c1-7c257982711c",
   "metadata": {},
   "outputs": [
    {
     "name": "stdout",
     "output_type": "stream",
     "text": [
      "['saima', 'keerthi', 'neha', 'neha', 'naveen', 'kalyan', 'sajith', 'parveen', 'adil', 'suresh']\n"
     ]
    }
   ],
   "source": [
    "students.insert(2,'neha')\n",
    "\n",
    "print(students)"
   ]
  },
  {
   "cell_type": "code",
   "execution_count": null,
   "id": "f4d946e5-a9dc-4b9a-a150-393811f47397",
   "metadata": {},
   "outputs": [],
   "source": [
    "#modify keerthi to kiran"
   ]
  },
  {
   "cell_type": "code",
   "execution_count": 11,
   "id": "f9980e9f-a28a-437e-a663-c61f18212c8e",
   "metadata": {},
   "outputs": [
    {
     "name": "stdout",
     "output_type": "stream",
     "text": [
      "['saima', 'kiran', 'neha', 'neha', 'naveen', 'kalyan', 'sajith', 'parveen', 'adil', 'suresh']\n"
     ]
    }
   ],
   "source": [
    "students[1]='kiran'\n",
    "\n",
    "print(students)"
   ]
  },
  {
   "cell_type": "code",
   "execution_count": null,
   "id": "d128608f-bff4-4b2f-b21a-d13618418bc3",
   "metadata": {},
   "outputs": [],
   "source": [
    "#delete neha"
   ]
  },
  {
   "cell_type": "code",
   "execution_count": 12,
   "id": "04613fc9-3c9b-4f03-802d-728578431550",
   "metadata": {},
   "outputs": [
    {
     "name": "stdout",
     "output_type": "stream",
     "text": [
      "['saima', 'kiran', 'neha', 'naveen', 'kalyan', 'sajith', 'parveen', 'adil', 'suresh']\n"
     ]
    }
   ],
   "source": [
    "del students[2]\n",
    "\n",
    "print(students)"
   ]
  },
  {
   "cell_type": "code",
   "execution_count": 13,
   "id": "bff50b03-3510-493e-b0c4-ef2ffb31929b",
   "metadata": {},
   "outputs": [
    {
     "name": "stdout",
     "output_type": "stream",
     "text": [
      "['saima', 'kiran', 'shazia', 'neha', 'naveen', 'kalyan', 'sajith', 'parveen', 'adil', 'suresh']\n"
     ]
    }
   ],
   "source": [
    "students.insert(2,'shazia')\n",
    "\n",
    "print(students)"
   ]
  },
  {
   "cell_type": "code",
   "execution_count": 14,
   "id": "3179c46f-dc82-4839-ad39-bc089886ce33",
   "metadata": {},
   "outputs": [
    {
     "name": "stdout",
     "output_type": "stream",
     "text": [
      "The Zen of Python, by Tim Peters\n",
      "\n",
      "Beautiful is better than ugly.\n",
      "Explicit is better than implicit.\n",
      "Simple is better than complex.\n",
      "Complex is better than complicated.\n",
      "Flat is better than nested.\n",
      "Sparse is better than dense.\n",
      "Readability counts.\n",
      "Special cases aren't special enough to break the rules.\n",
      "Although practicality beats purity.\n",
      "Errors should never pass silently.\n",
      "Unless explicitly silenced.\n",
      "In the face of ambiguity, refuse the temptation to guess.\n",
      "There should be one-- and preferably only one --obvious way to do it.\n",
      "Although that way may not be obvious at first unless you're Dutch.\n",
      "Now is better than never.\n",
      "Although never is often better than *right* now.\n",
      "If the implementation is hard to explain, it's a bad idea.\n",
      "If the implementation is easy to explain, it may be a good idea.\n",
      "Namespaces are one honking great idea -- let's do more of those!\n"
     ]
    }
   ],
   "source": [
    "import this"
   ]
  },
  {
   "cell_type": "code",
   "execution_count": null,
   "id": "6c833da5-c766-4f31-82e7-3040ab722141",
   "metadata": {},
   "outputs": [],
   "source": []
  },
  {
   "cell_type": "code",
   "execution_count": null,
   "id": "ab75c2ef-d254-491a-88ad-111127054bba",
   "metadata": {},
   "outputs": [],
   "source": []
  },
  {
   "cell_type": "code",
   "execution_count": null,
   "id": "4fc0980c-6aed-4e47-9531-ad0620b0fc8e",
   "metadata": {},
   "outputs": [],
   "source": []
  },
  {
   "cell_type": "code",
   "execution_count": null,
   "id": "1139af61-2db1-4df0-a80a-2e68be629db3",
   "metadata": {},
   "outputs": [],
   "source": []
  },
  {
   "cell_type": "code",
   "execution_count": null,
   "id": "f5e43022-1c5d-4fb5-84ee-45a4b8b731cd",
   "metadata": {},
   "outputs": [],
   "source": []
  }
 ],
 "metadata": {
  "kernelspec": {
   "display_name": "Python 3 (ipykernel)",
   "language": "python",
   "name": "python3"
  },
  "language_info": {
   "codemirror_mode": {
    "name": "ipython",
    "version": 3
   },
   "file_extension": ".py",
   "mimetype": "text/x-python",
   "name": "python",
   "nbconvert_exporter": "python",
   "pygments_lexer": "ipython3",
   "version": "3.12.4"
  }
 },
 "nbformat": 4,
 "nbformat_minor": 5
}
